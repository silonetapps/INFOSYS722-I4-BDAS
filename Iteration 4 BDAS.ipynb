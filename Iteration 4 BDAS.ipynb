{
 "cells": [
  {
   "cell_type": "markdown",
   "metadata": {
    "editable": true,
    "slideshow": {
     "slide_type": ""
    },
    "tags": []
   },
   "source": [
    "## 01-BU\n",
    "INFOSYS722 - Iteration 4 - BDAS\n",
    "Author: S. Schmidt<br>Date: 10/05/2024<br>\n",
    "Desc: Primary question: Is the date the UN set of the year 2030 achievable for Goal 2, Zero world hunger?<br><br>\n",
    "This Spark program reads in the Global Health Index values collected for each country and calculates a Mean value<br>\n",
    "for each collected year. <br>This mean value is then used to predict the date when \"Zero Hunger\" will be reached and in turn, provide insight into when Zero Hunger will be reached.\n"
   ]
  },
  {
   "cell_type": "markdown",
   "metadata": {},
   "source": [
    "## # 02-DU\n",
    "Load up libraries and retrieve datasource\n"
   ]
  },
  {
   "cell_type": "code",
   "execution_count": 1,
   "metadata": {},
   "outputs": [
    {
     "name": "stderr",
     "output_type": "stream",
     "text": [
      "24/05/16 17:09:03 WARN Utils: Your hostname, dev2 resolves to a loopback address: 127.0.1.1; using 192.168.1.217 instead (on interface eth0)\n",
      "24/05/16 17:09:03 WARN Utils: Set SPARK_LOCAL_IP if you need to bind to another address\n",
      "Using Spark's default log4j profile: org/apache/spark/log4j-defaults.properties\n",
      "Setting default log level to \"WARN\".\n",
      "To adjust logging level use sc.setLogLevel(newLevel). For SparkR, use setLogLevel(newLevel).\n",
      "24/05/16 17:09:05 WARN NativeCodeLoader: Unable to load native-hadoop library for your platform... using builtin-java classes where applicable\n"
     ]
    },
    {
     "name": "stdout",
     "output_type": "stream",
     "text": [
      "2.2.2\n"
     ]
    }
   ],
   "source": [
    "import findspark\n",
    "findspark.init('/home/ubuntu/spark-3.2.1-bin-hadoop2.7')\n",
    "import pyspark\n",
    "from pyspark.sql import SparkSession\n",
    "import sys\n",
    "\n",
    "#from pyspark.sql.SQLContext import sqlContext\n",
    "spark = SparkSession.builder.appName('predict_un_ghi_target_date').getOrCreate()\n",
    "#from pyspark.ml.regression import LinearRegression\n",
    "\n",
    "# Import VectorAssembler and Vectors\n",
    "from pyspark.ml.linalg import Vectors\n",
    "from pyspark.ml.feature import VectorAssembler, StringIndexer\n",
    "\n",
    "#from pyspark.pandas import pypandas\n",
    "import pandas as pd\n",
    "import numpy as np\n",
    "from sklearn.linear_model import LinearRegression\n",
    "\n",
    "print(pd.__version__)\n"
   ]
  },
  {
   "cell_type": "code",
   "execution_count": 2,
   "metadata": {},
   "outputs": [
    {
     "name": "stderr",
     "output_type": "stream",
     "text": [
      "                                                                                \r"
     ]
    }
   ],
   "source": [
    "#platform = sys.platform\n",
    "#recur_limit = sys.getrecursionlimit()\n",
    "#print(\"The recursion limit for %s platform is %s\" % (platform, recur_limit))\n",
    "#sys.setrecursionlimit(1000)\n",
    "#new_recur_limit = sys.getrecursionlimit()\n",
    "#print(\"The new recursion limit for %s platform is %s\" % (platform, new_recur_limit))\n",
    "\n",
    "# Use Spark to read in the Ecommerce Customers csv file. You can infer csv schemas. \n",
    "data = spark.read.csv(\"global-hunger-index.csv\",inferSchema=True,header=True)"
   ]
  },
  {
   "cell_type": "code",
   "execution_count": null,
   "metadata": {},
   "outputs": [],
   "source": []
  },
  {
   "cell_type": "code",
   "execution_count": 3,
   "metadata": {},
   "outputs": [
    {
     "name": "stdout",
     "output_type": "stream",
     "text": [
      "root\n",
      " |-- Entity: string (nullable = true)\n",
      " |-- Code: string (nullable = true)\n",
      " |-- Year: integer (nullable = true)\n",
      " |-- Global Hunger Index (2021): double (nullable = true)\n",
      " |-- 411773-annotations: string (nullable = true)\n",
      "\n"
     ]
    }
   ],
   "source": [
    "# Print the schema of the DataFrame. You can see potential features as well as the predictor.\n",
    "data.printSchema()"
   ]
  },
  {
   "cell_type": "markdown",
   "metadata": {},
   "source": [
    "## # 03-DP\n"
   ]
  },
  {
   "cell_type": "code",
   "execution_count": 4,
   "metadata": {},
   "outputs": [
    {
     "data": {
      "text/plain": [
       "[Row(Entity='Afghanistan', Code='AFG', Year=2000, Global Hunger Index (2021)=50.9, 411773-annotations=None),\n",
       " Row(Entity='Afghanistan', Code='AFG', Year=2006, Global Hunger Index (2021)=42.7, 411773-annotations=None),\n",
       " Row(Entity='Afghanistan', Code='AFG', Year=2012, Global Hunger Index (2021)=34.3, 411773-annotations=None),\n",
       " Row(Entity='Afghanistan', Code='AFG', Year=2021, Global Hunger Index (2021)=28.3, 411773-annotations=None),\n",
       " Row(Entity='Albania', Code='ALB', Year=2000, Global Hunger Index (2021)=20.7, 411773-annotations=None),\n",
       " Row(Entity='Albania', Code='ALB', Year=2006, Global Hunger Index (2021)=15.9, 411773-annotations=None),\n",
       " Row(Entity='Albania', Code='ALB', Year=2012, Global Hunger Index (2021)=8.8, 411773-annotations=None),\n",
       " Row(Entity='Albania', Code='ALB', Year=2021, Global Hunger Index (2021)=6.2, 411773-annotations=None),\n",
       " Row(Entity='Algeria', Code='DZA', Year=2000, Global Hunger Index (2021)=14.5, 411773-annotations=None),\n",
       " Row(Entity='Algeria', Code='DZA', Year=2006, Global Hunger Index (2021)=11.7, 411773-annotations=None)]"
      ]
     },
     "execution_count": 4,
     "metadata": {},
     "output_type": "execute_result"
    }
   ],
   "source": [
    "# Let's focus on one row to make it easier to read.\n",
    "data.head(10)"
   ]
  },
  {
   "cell_type": "code",
   "execution_count": 5,
   "metadata": {},
   "outputs": [
    {
     "name": "stdout",
     "output_type": "stream",
     "text": [
      "Row(Entity='Afghanistan', Code='AFG', Year=2000, Global Hunger Index (2021)=50.9, 411773-annotations=None)\n",
      "Row(Entity='Afghanistan', Code='AFG', Year=2006, Global Hunger Index (2021)=42.7, 411773-annotations=None)\n",
      "Row(Entity='Afghanistan', Code='AFG', Year=2012, Global Hunger Index (2021)=34.3, 411773-annotations=None)\n",
      "Row(Entity='Afghanistan', Code='AFG', Year=2021, Global Hunger Index (2021)=28.3, 411773-annotations=None)\n",
      "Row(Entity='Albania', Code='ALB', Year=2000, Global Hunger Index (2021)=20.7, 411773-annotations=None)\n",
      "Row(Entity='Albania', Code='ALB', Year=2006, Global Hunger Index (2021)=15.9, 411773-annotations=None)\n",
      "Row(Entity='Albania', Code='ALB', Year=2012, Global Hunger Index (2021)=8.8, 411773-annotations=None)\n",
      "Row(Entity='Albania', Code='ALB', Year=2021, Global Hunger Index (2021)=6.2, 411773-annotations=None)\n",
      "Row(Entity='Algeria', Code='DZA', Year=2000, Global Hunger Index (2021)=14.5, 411773-annotations=None)\n",
      "Row(Entity='Algeria', Code='DZA', Year=2006, Global Hunger Index (2021)=11.7, 411773-annotations=None)\n"
     ]
    }
   ],
   "source": [
    "# A simple for loop allows us to make it even clearer. \n",
    "for item in data.head(10):\n",
    "    print(item)"
   ]
  },
  {
   "cell_type": "markdown",
   "metadata": {},
   "source": [
    "## 04-DT\n",
    "Data Transform - Process data source to produce Mean values for each year."
   ]
  },
  {
   "cell_type": "code",
   "execution_count": 6,
   "metadata": {},
   "outputs": [
    {
     "name": "stdout",
     "output_type": "stream",
     "text": [
      "Column<'Year'>\n",
      "Column<'MeanGHIraw'>\n"
     ]
    }
   ],
   "source": [
    "#data.sort(['Year']).groupBy(\"Year\").mean(\"Global Hunger Index (2021)\").show()\n",
    "df_raw = data.groupBy(\"Year\").mean(\"Global Hunger Index (2021)\")\n",
    "df_raw = df_raw.withColumnRenamed(\"avg(Global Hunger Index (2021))\", \"MeanGHIraw\")\n",
    "#print(df_raw)\n",
    "df_raw\n",
    "for item in df_raw:\n",
    "    print(item)\n",
    "#df = df_raw.withColumn('MeanGHI', round(df_raw.MeanGHIraw , 4))\n",
    "#spark.registerDataFrameAsTable(df_raw, \"df_Raw_Table\")\n",
    "#df = spark.sql(\"SELECT Year, `Global Hunger Index (2021)` as MeanGHIraw from df_Raw_Table\")\n"
   ]
  },
  {
   "cell_type": "code",
   "execution_count": 7,
   "metadata": {},
   "outputs": [
    {
     "name": "stderr",
     "output_type": "stream",
     "text": [
      "                                                                                \r"
     ]
    },
    {
     "name": "stdout",
     "output_type": "stream",
     "text": [
      "+-------+-----------------+------------------+\n",
      "|summary|             Year|        MeanGHIraw|\n",
      "+-------+-----------------+------------------+\n",
      "|  count|                4|                 4|\n",
      "|   mean|          2009.75| 19.94550241620261|\n",
      "| stddev|8.958236433584458|3.5256811798596144|\n",
      "|    min|             2000|         16.790625|\n",
      "|    25%|             2000|         16.790625|\n",
      "|    50%|             2006| 17.50862068965517|\n",
      "|    75%|             2012| 21.04347826086957|\n",
      "|    max|             2021| 24.43928571428571|\n",
      "+-------+-----------------+------------------+\n",
      "\n"
     ]
    }
   ],
   "source": [
    "df_raw.summary().show()\n",
    "df_raw.createOrReplaceTempView(\"df_Raw_Table\")\n",
    "#df = spark.sql(\"SELECT Year, `Global Hunger Index (2021)` as MeanGHIraw from df_Raw_Table\")\n",
    "df = spark.sql(\"select Year, round(MeanGHIraw, 4) as MeanGHI from df_Raw_Table\")\n",
    "df\n",
    "df.createOrReplaceTempView(\"df_Table\")\n",
    "#df.summary().show()\n",
    "#df.describe()\n"
   ]
  },
  {
   "cell_type": "markdown",
   "metadata": {},
   "source": [
    "## 05-DMM\n",
    "Data Transform - Process data source to produce Mean values for each year."
   ]
  },
  {
   "cell_type": "code",
   "execution_count": 23,
   "metadata": {},
   "outputs": [
    {
     "data": {
      "text/plain": [
       "<Axes: title={'center': 'Actual MeanGHI'}, xlabel='Year', ylabel='MeanGHI'>"
      ]
     },
     "execution_count": 23,
     "metadata": {},
     "output_type": "execute_result"
    },
    {
     "data": {
      "image/png": "[encoded data removed]",
      "text/plain": [
       "<Figure size 640x480 with 1 Axes>"
      ]
     },
     "metadata": {},
     "output_type": "display_data"
    }
   ],
   "source": [
    "## Plot Initial MeanGHI data\n",
    "df1=spark.sql(\"Select * from df_Table order by Year\")\n",
    "#df1.show()\n",
    "pdf1=df1.toPandas()\n",
    "pdf1.plot(kind='line', x='Year',y='MeanGHI', linestyle=\"solid\", marker=\"o\", color=\"blue\", title=\"Actual MeanGHI\", xlabel='Year', ylabel='MeanGHI')\n"
   ]
  },
  {
   "cell_type": "markdown",
   "metadata": {},
   "source": [
    "## 05-DMM\n",
    "Data Transform - Process data source to produce Mean values for each year."
   ]
  },
  {
   "cell_type": "code",
   "execution_count": 24,
   "metadata": {},
   "outputs": [
    {
     "name": "stderr",
     "output_type": "stream",
     "text": [
      "                                                                                \r"
     ]
    },
    {
     "data": {
      "text/plain": [
       "<Axes: title={'center': 'Actual/Projected Current'}, xlabel='Year', ylabel='MeanGHI'>"
      ]
     },
     "execution_count": 24,
     "metadata": {},
     "output_type": "execute_result"
    },
    {
     "data": {
      "image/png": "[encoded data removed]",
      "text/plain": [
       "<Figure size 640x480 with 1 Axes>"
      ]
     },
     "metadata": {},
     "output_type": "display_data"
    }
   ],
   "source": [
    "## Data Graphs - Actual/Future\n",
    "\n",
    "#  Run preduction from full instances collected\n",
    "df2 = spark.sql(\"Select Year, MeanGHI from df_Table order by Year limit 4\")\n",
    "\n",
    "X = np.array(df2.select(\"Year\").collect())\n",
    "Y = np.array(df2.select(\"MeanGHI\").collect())\n",
    "\n",
    "reg = LinearRegression().fit(X, Y)\n",
    "reg.score(X, Y)\n",
    "reg.coef_\n",
    "reg.intercept_\n",
    "# Kept adding a year on and rerunning until the value reached/past Zero.\n",
    "predict_years = [ [2027], [2033], [2039], [2043], [2049], [2055], [2061] ]\n",
    "future = reg.predict(np.array(predict_years))\n",
    "#print(\"Future predictions are %s\" % (future))\n",
    "\n",
    "plotYears = X\n",
    "plotMeanGHI = Y\n",
    "#print(\"xxxx\")\n",
    "#print(plotYears)\n",
    "#print(plotMeanGHI)\n",
    "#print(\"xxxx\")\n",
    "\n",
    "columns = [\"Year\", \"MeanGHI\"]\n",
    "plt_future = df2\n",
    "plt_1st=plt_future.select(\"MeanGHI\").toPandas().unstack()\n",
    "\n",
    "x = 4\n",
    "while x<11:\n",
    "    plt_1st.loc['MeanGHI', x]=0\n",
    "    x += 1\n",
    "\n",
    "new_data = np.column_stack((predict_years, future))\n",
    "new_row = spark.createDataFrame(new_data.tolist(), schema=columns)\n",
    "plt_2nd=new_row.select(\"MeanGHI\")\n",
    "plt_2nd = plt_2nd.toPandas().unstack()\n",
    "\n",
    "#  Init lower part of dataframe first\n",
    "x = 7\n",
    "while x<11:\n",
    "    #print(\"Init: %s\" % (x))\n",
    "    plt_2nd.loc['MeanGHI', x]=0\n",
    "    x += 1\n",
    "\n",
    "# Rearrange dataframe\n",
    "x = 10\n",
    "while x>-1:\n",
    "    #print(\"Rearrange: %s\" % (x))\n",
    "    if x<4:\n",
    "        plt_2nd.loc['MeanGHI',x]=0\n",
    "    else:\n",
    "        plt_2nd.loc['MeanGHI',x]=plt_2nd.loc['MeanGHI',(x-4)]\n",
    "        #print(\"Value: %s\" % (plt_2nd.loc['MeanGHI',(x-4)]))\n",
    "    x -= 1\n",
    "\n",
    "# Cross over point\n",
    "plt_1st.loc['MeanGHI',4]=plt_2nd.loc['MeanGHI',4]\n",
    "\n",
    "plt_future = plt_future.union(new_row)\n",
    "\n",
    "#print(\"....\")\n",
    "#new_row.printSchema()\n",
    "#new_row.show(truncate=False)\n",
    "#plt_future.printSchema()\n",
    "#plt_future.show(truncate=False)\n",
    "#print(\"....\")\n",
    "\n",
    "## Plot Initial MeanGHI data\n",
    "#plt_future.show()\n",
    "plt_df2=plt_future.toPandas()\n",
    "\n",
    "#  Convert to series\n",
    "plt_1st = plt_1st['MeanGHI']\n",
    "plt_2nd = plt_2nd['MeanGHI']\n",
    "#print(\"plt_1st\")\n",
    "#print(plt_1st)\n",
    "#print(\"plt_2nd\")\n",
    "#print(plt_2nd)\n",
    "\n",
    "df5 = pd.DataFrame({'Actual': plt_1st.values,\n",
    "                    'Future': plt_2nd.values},\n",
    "                    index=[ 2000, 2006, 2012, 2021, 2027, 2033, 2039, 2043, 2049, 2055, 2061 ])\n",
    "\n",
    "\n",
    "df5 = df5.replace(0, None)\n",
    "\n",
    "#print(df5)\n",
    "\n",
    "df5.plot(kind='line', title=\"Actual/Projected Current\", linestyle=\"solid\", marker=\"o\", xlabel='Year', ylabel='MeanGHI')"
   ]
  },
  {
   "cell_type": "code",
   "execution_count": null,
   "metadata": {},
   "outputs": [],
   "source": [
    "## Working plot for Actual/Future\n",
    "#  Run preduction from full instances collected\n",
    "df2 = spark.sql(\"Select Year, MeanGHI from df_Table order by Year limit 4\")\n",
    "\n",
    "X = np.array(df2.select(\"Year\").collect())\n",
    "Y = np.array(df2.select(\"MeanGHI\").collect())\n",
    "\n",
    "reg = LinearRegression().fit(X, Y)\n",
    "reg.score(X, Y)\n",
    "reg.coef_\n",
    "reg.intercept_\n",
    "# Kept adding a year on and rerunning until the value reached/past Zero.\n",
    "predict_years = [ [2027], [2033], [2039], [2043], [2049], [2055], [2061] ]\n",
    "future = reg.predict(np.array(predict_years))\n",
    "print(\"The new numbers are %s\" % (future))\n",
    "\n",
    "plotYears = X\n",
    "plotMeanGHI = Y\n",
    "print(\"xxxx\")\n",
    "print(plotYears)\n",
    "print(plotMeanGHI)\n",
    "print(\"xxxx\")\n",
    "\n",
    "columns = [\"Year\", \"MeanGHI\"]\n",
    "plt_future = df2\n",
    "#plt_1st = np.array(plt_future.select(\"MeanGHI\"))\n",
    "plt_1st=plt_future.select(\"MeanGHI\").toPandas().unstack()\n",
    "##columns = ['MeanGHI']\n",
    "#vals1 = [0, 0, 0, 0, 0, 0, 0]\n",
    "#val1col = [\"MeanGHI\"]\n",
    "#vals1b = spark.createDataFrame([vals1], schema=val1col)\n",
    "#gg=pd.concat(vals1b, axis=0)\n",
    "#plt_1st=pd.concat(vals1b)\n",
    "##plt_1st = plt_1st.shape[-1][1]\n",
    "#plt_1st.loc['MeanGHI', 4]=0\n",
    "#plt_1st.loc['MeanGHI', 5]=0\n",
    "#plt_1st.loc['MeanGHI', 6]=0\n",
    "#plt_1st.loc['MeanGHI', 7]=0\n",
    "#plt_1st.loc['MeanGHI', 8]=0\n",
    "#plt_1st.loc['MeanGHI', 9]=0\n",
    "#plt_1st.loc['MeanGHI', 10]=0\n",
    "#plt_1st.loc['MeanGHI', 11]=0\n",
    "\n",
    "x = 4\n",
    "while x<11:\n",
    "    plt_1st.loc['MeanGHI', x]=0\n",
    "    x += 1\n",
    "\n",
    "new_data = np.column_stack((predict_years, future))\n",
    "new_row = spark.createDataFrame(new_data.tolist(), schema=columns)\n",
    "plt_2nd=new_row.select(\"MeanGHI\")\n",
    "#plt_2nd = plt_2nd.reshape(-1,1)\n",
    "plt_2nd = plt_2nd.toPandas().unstack()\n",
    "\n",
    "#  Init lower part of dataframe first\n",
    "x = 7\n",
    "while x<11:\n",
    "    print(\"Init: %s\" % (x))\n",
    "    plt_2nd.loc['MeanGHI', x]=0\n",
    "    x += 1\n",
    "\n",
    "# Rearrange dataframe\n",
    "x = 10\n",
    "while x>-1:\n",
    "    print(\"Rearrange: %s\" % (x))\n",
    "    if x<4:\n",
    "        plt_2nd.loc['MeanGHI',x]=0\n",
    "    else:\n",
    "        plt_2nd.loc['MeanGHI',x]=plt_2nd.loc['MeanGHI',(x-4)]\n",
    "        print(\"Value: %s\" % (plt_2nd.loc['MeanGHI',(x-4)]))\n",
    "    x -= 1\n",
    "\n",
    "# Cross over point\n",
    "plt_1st.loc['MeanGHI',4]=plt_2nd.loc['MeanGHI',4]\n",
    "\n",
    "#plt_2nd=plt_1st\n",
    "#plt_2nd['MeanGHI', 0]=0\n",
    "#plt_2nd['MeanGHI', 1]=0\n",
    "#plt_2nd['MeanGHI', 2]=0\n",
    "#plt_2nd.loc[3]=plt_1st['3']\n",
    "#plt_2nd['MeanGHI', 4]= new_row.MeanGHI[4]\n",
    "#plt_2nd = plt_2nd.union(new_row)\n",
    "#plt_2nd=pd.concat(plt_2nda)\n",
    "#plt_2nd = np.column_stack((plt_2nd, future))\n",
    "\n",
    "#plt_2nd=new_row.select(\"MeanGHI\").toPandas()\n",
    "plt_future = plt_future.union(new_row)\n",
    "\n",
    "print(\"....\")\n",
    "new_row.printSchema()\n",
    "new_row.show(truncate=False)\n",
    "#new_data.printSchema()\n",
    "#print(new_data)\n",
    "plt_future.printSchema()\n",
    "plt_future.show(truncate=False)\n",
    "print(\"....\")\n",
    "\n",
    "## Plot Initial MeanGHI data\n",
    "plt_future.show()\n",
    "plt_df2=plt_future.toPandas()\n",
    "\n",
    "#  Convert to series\n",
    "plt_1st = plt_1st['MeanGHI']\n",
    "plt_2nd = plt_2nd['MeanGHI']\n",
    "print(\"plt_1st\")\n",
    "print(plt_1st)\n",
    "print(\"plt_2nd\")\n",
    "print(plt_2nd)\n",
    "\n",
    "df5 = pd.DataFrame({'length': [1.5, 0.5, 1.2, 0.9, 3],\n",
    "                  'width': [0.7, 0.2, 0.15, 0.2, 1.1]},\n",
    "                  index=['pig', 'rabbit', 'duck', 'chicken', 'horse'])\n",
    "\n",
    "df5 = pd.DataFrame({'Actual': [24.4393, 21.0435, 17.5086, 16.7906, 13.5751, 0, 0, 0, 0, 0, 0 ],\n",
    "                    'Future': [ 0, 0, 0, 0, 13.57516635514014, 11.3593981308411, 9.14362990654206, 7.666451090342662, 5.450682866043621, 3.234914641744581, 1.0191464174454268]},\n",
    "                    index=[ '2000', '2006', '2012', '2021', '2027', '2033', '2039', '2043', '2049', '2055', '2061' ])\n",
    "\n",
    "df5 = pd.DataFrame({'Actual': plt_1st.values,\n",
    "                    'Future': plt_2nd.values},\n",
    "                    index=[ 2000, 2006, 2012, 2021, 2027, 2033, 2039, 2043, 2049, 2055, 2061 ])\n",
    "\n",
    "\n",
    "df5 = df5.replace(0, None)\n",
    "\n",
    "print(df5)\n",
    "\n",
    "df5.plot(kind='line', title=\"Actual/Projected Current\", linestyle=\"solid\", marker=\"o\")"
   ]
  }
 ],
 "metadata": {
  "anaconda-cloud": {},
  "kernelspec": {
   "display_name": "Python 3 (ipykernel)",
   "language": "python",
   "name": "python3"
  },
  "language_info": {
   "codemirror_mode": {
    "name": "ipython",
    "version": 3
   },
   "file_extension": ".py",
   "mimetype": "text/x-python",
   "name": "python",
   "nbconvert_exporter": "python",
   "pygments_lexer": "ipython3",
   "version": "3.10.12"
  }
 },
 "nbformat": 4,
 "nbformat_minor": 4
}
