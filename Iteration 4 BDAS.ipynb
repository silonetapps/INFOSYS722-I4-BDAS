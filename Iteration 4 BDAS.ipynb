{
 "cells": [
  {
   "cell_type": "markdown",
   "metadata": {
    "slideshow": {
     "slide_type": ""
    },
    "tags": []
   },
   "source": [
    "## 01-BU\n",
    "INFOSYS722 - Iteration 4 - BDAS\n",
    "Author: S. Schmidt<br>Date: 10/05/2024<br>\n",
    "Desc: Primary question: Is the date the UN set of the year 2030 achievable for Goal 2, Zero world hunger?<br><br>\n",
    "This Spark program reads in the Global Health Index values collected for each country and calculates a Mean value<br>\n",
    "for each collected year. <br>This mean value is then used to predict the date when \"Zero Hunger\" will be reached and in turn, provide insight into when Zero Hunger will be reached.\n"
   ]
  },
  {
   "cell_type": "markdown",
   "metadata": {},
   "source": [
    "## # 02-DU\n",
    "Load up libraries and retrieve datasource\n"
   ]
  },
  {
   "cell_type": "code",
   "execution_count": 17,
   "metadata": {},
   "outputs": [
    {
     "name": "stdout",
     "output_type": "stream",
     "text": [
      "1.4.2\n"
     ]
    }
   ],
   "source": [
    "import findspark\n",
    "findspark.init('/home/ubuntu/spark-3.2.1-bin-hadoop2.7')\n",
    "import pyspark\n",
    "from pyspark.sql import SparkSession\n",
    "import sys\n",
    "\n",
    "#from pyspark.sql.SQLContext import sqlContext\n",
    "spark = SparkSession.builder.appName('predict_un_ghi_target_date').getOrCreate()\n",
    "#from pyspark.ml.regression import LinearRegression\n",
    "\n",
    "# Import VectorAssembler and Vectors\n",
    "from pyspark.ml.linalg import Vectors\n",
    "from pyspark.ml.feature import VectorAssembler, StringIndexer\n",
    "\n",
    "#from pyspark.pandas import pypandas\n",
    "import pandas as pd\n",
    "pd.options.mode.chained_assignment = None\n",
    "import numpy as np\n",
    "from sklearn.linear_model import LinearRegression\n",
    "\n",
    "print(pd.__version__)\n"
   ]
  },
  {
   "cell_type": "code",
   "execution_count": 18,
   "metadata": {},
   "outputs": [],
   "source": [
    "#platform = sys.platform\n",
    "#recur_limit = sys.getrecursionlimit()\n",
    "#print(\"The recursion limit for %s platform is %s\" % (platform, recur_limit))\n",
    "#sys.setrecursionlimit(1000)\n",
    "#new_recur_limit = sys.getrecursionlimit()\n",
    "#print(\"The new recursion limit for %s platform is %s\" % (platform, new_recur_limit))\n",
    "\n",
    "# Use Spark to read in the Ecommerce Customers csv file. You can infer csv schemas. \n",
    "data = spark.read.csv(\"global-hunger-index.csv\",inferSchema=True,header=True)"
   ]
  },
  {
   "cell_type": "code",
   "execution_count": null,
   "metadata": {},
   "outputs": [],
   "source": []
  },
  {
   "cell_type": "code",
   "execution_count": 19,
   "metadata": {},
   "outputs": [
    {
     "name": "stdout",
     "output_type": "stream",
     "text": [
      "root\n",
      " |-- Entity: string (nullable = true)\n",
      " |-- Code: string (nullable = true)\n",
      " |-- Year: integer (nullable = true)\n",
      " |-- Global Hunger Index (2021): double (nullable = true)\n",
      " |-- 411773-annotations: string (nullable = true)\n",
      "\n"
     ]
    }
   ],
   "source": [
    "# Print the schema of the DataFrame. Get a view of the datasource structure\n",
    "data.printSchema()"
   ]
  },
  {
   "cell_type": "markdown",
   "metadata": {},
   "source": [
    "## # 03-DP\n"
   ]
  },
  {
   "cell_type": "code",
   "execution_count": 20,
   "metadata": {},
   "outputs": [
    {
     "data": {
      "text/plain": [
       "[Row(Entity='Afghanistan', Code='AFG', Year=2000, Global Hunger Index (2021)=50.9, 411773-annotations=None),\n",
       " Row(Entity='Afghanistan', Code='AFG', Year=2006, Global Hunger Index (2021)=42.7, 411773-annotations=None),\n",
       " Row(Entity='Afghanistan', Code='AFG', Year=2012, Global Hunger Index (2021)=34.3, 411773-annotations=None),\n",
       " Row(Entity='Afghanistan', Code='AFG', Year=2021, Global Hunger Index (2021)=28.3, 411773-annotations=None),\n",
       " Row(Entity='Albania', Code='ALB', Year=2000, Global Hunger Index (2021)=20.7, 411773-annotations=None),\n",
       " Row(Entity='Albania', Code='ALB', Year=2006, Global Hunger Index (2021)=15.9, 411773-annotations=None),\n",
       " Row(Entity='Albania', Code='ALB', Year=2012, Global Hunger Index (2021)=8.8, 411773-annotations=None),\n",
       " Row(Entity='Albania', Code='ALB', Year=2021, Global Hunger Index (2021)=6.2, 411773-annotations=None),\n",
       " Row(Entity='Algeria', Code='DZA', Year=2000, Global Hunger Index (2021)=14.5, 411773-annotations=None),\n",
       " Row(Entity='Algeria', Code='DZA', Year=2006, Global Hunger Index (2021)=11.7, 411773-annotations=None)]"
      ]
     },
     "execution_count": 20,
     "metadata": {},
     "output_type": "execute_result"
    }
   ],
   "source": [
    "# Dump the first 10 instances of the datasource\n",
    "data.head(10)"
   ]
  },
  {
   "cell_type": "code",
   "execution_count": 21,
   "metadata": {},
   "outputs": [
    {
     "data": {
      "text/html": [
       "<div>\n",
       "<style scoped>\n",
       "    .dataframe tbody tr th:only-of-type {\n",
       "        vertical-align: middle;\n",
       "    }\n",
       "\n",
       "    .dataframe tbody tr th {\n",
       "        vertical-align: top;\n",
       "    }\n",
       "\n",
       "    .dataframe thead th {\n",
       "        text-align: right;\n",
       "    }\n",
       "</style>\n",
       "<table border=\"1\" class=\"dataframe\">\n",
       "  <thead>\n",
       "    <tr style=\"text-align: right;\">\n",
       "      <th></th>\n",
       "      <th>Year</th>\n",
       "      <th>Global Hunger Index (2021)</th>\n",
       "    </tr>\n",
       "  </thead>\n",
       "  <tbody>\n",
       "    <tr>\n",
       "      <th>count</th>\n",
       "      <td>471.000000</td>\n",
       "      <td>471.000000</td>\n",
       "    </tr>\n",
       "    <tr>\n",
       "      <th>mean</th>\n",
       "      <td>2010.127389</td>\n",
       "      <td>19.824628</td>\n",
       "    </tr>\n",
       "    <tr>\n",
       "      <th>std</th>\n",
       "      <td>7.852951</td>\n",
       "      <td>13.449570</td>\n",
       "    </tr>\n",
       "    <tr>\n",
       "      <th>min</th>\n",
       "      <td>2000.000000</td>\n",
       "      <td>2.500000</td>\n",
       "    </tr>\n",
       "    <tr>\n",
       "      <th>25%</th>\n",
       "      <td>2006.000000</td>\n",
       "      <td>8.800000</td>\n",
       "    </tr>\n",
       "    <tr>\n",
       "      <th>50%</th>\n",
       "      <td>2012.000000</td>\n",
       "      <td>17.000000</td>\n",
       "    </tr>\n",
       "    <tr>\n",
       "      <th>75%</th>\n",
       "      <td>2021.000000</td>\n",
       "      <td>28.550000</td>\n",
       "    </tr>\n",
       "    <tr>\n",
       "      <th>max</th>\n",
       "      <td>2021.000000</td>\n",
       "      <td>65.100000</td>\n",
       "    </tr>\n",
       "  </tbody>\n",
       "</table>\n",
       "</div>"
      ],
      "text/plain": [
       "              Year  Global Hunger Index (2021)\n",
       "count   471.000000                  471.000000\n",
       "mean   2010.127389                   19.824628\n",
       "std       7.852951                   13.449570\n",
       "min    2000.000000                    2.500000\n",
       "25%    2006.000000                    8.800000\n",
       "50%    2012.000000                   17.000000\n",
       "75%    2021.000000                   28.550000\n",
       "max    2021.000000                   65.100000"
      ]
     },
     "execution_count": 21,
     "metadata": {},
     "output_type": "execute_result"
    }
   ],
   "source": [
    "# Get a breakdown on info contained in dataframe\n",
    "data.toPandas().describe()"
   ]
  },
  {
   "cell_type": "markdown",
   "metadata": {},
   "source": [
    "## 04-DT\n",
    "Data Transform - Process data source to produce Mean values for each year."
   ]
  },
  {
   "cell_type": "code",
   "execution_count": 22,
   "metadata": {},
   "outputs": [
    {
     "data": {
      "text/plain": [
       "[Row(Entity='Afghanistan', Year=2000, Global Hunger Index (2021)=50.9),\n",
       " Row(Entity='Afghanistan', Year=2006, Global Hunger Index (2021)=42.7),\n",
       " Row(Entity='Afghanistan', Year=2012, Global Hunger Index (2021)=34.3),\n",
       " Row(Entity='Afghanistan', Year=2021, Global Hunger Index (2021)=28.3)]"
      ]
     },
     "execution_count": 22,
     "metadata": {},
     "output_type": "execute_result"
    }
   ],
   "source": [
    "#dRemove unused columns. Not nessary but keeps data clean.\n",
    "data = data.drop('Code')\n",
    "data = data.drop('411773-annotations')\n",
    "data.head(4)"
   ]
  },
  {
   "cell_type": "code",
   "execution_count": 23,
   "metadata": {},
   "outputs": [
    {
     "name": "stdout",
     "output_type": "stream",
     "text": [
      "+----+-----------------+\n",
      "|Year|       MeanGHIraw|\n",
      "+----+-----------------+\n",
      "|2006|21.04347826086957|\n",
      "|2012|17.50862068965517|\n",
      "|2000|24.43928571428571|\n",
      "|2021|        16.790625|\n",
      "+----+-----------------+\n",
      "\n"
     ]
    }
   ],
   "source": [
    "# Calculate the Mean GHI for each year.\n",
    "df_raw = data.groupBy(\"Year\").mean(\"Global Hunger Index (2021)\")\n",
    "df_raw = df_raw.withColumnRenamed(\"avg(Global Hunger Index (2021))\", \"MeanGHIraw\")\n",
    "df_raw.show()\n"
   ]
  },
  {
   "cell_type": "code",
   "execution_count": 24,
   "metadata": {},
   "outputs": [
    {
     "name": "stderr",
     "output_type": "stream",
     "text": [
      "                                                                                \r"
     ]
    },
    {
     "name": "stdout",
     "output_type": "stream",
     "text": [
      "+-------+-----------------+------------------+\n",
      "|summary|             Year|        MeanGHIraw|\n",
      "+-------+-----------------+------------------+\n",
      "|  count|                4|                 4|\n",
      "|   mean|          2009.75| 19.94550241620261|\n",
      "| stddev|8.958236433584458|3.5256811798596144|\n",
      "|    min|             2000|         16.790625|\n",
      "|    25%|             2000|         16.790625|\n",
      "|    50%|             2006| 17.50862068965517|\n",
      "|    75%|             2012| 21.04347826086957|\n",
      "|    max|             2021| 24.43928571428571|\n",
      "+-------+-----------------+------------------+\n",
      "\n"
     ]
    }
   ],
   "source": [
    "# Clean up MeanGHI and prep data for SQL\n",
    "df_raw.summary().show()\n",
    "df_raw.createOrReplaceTempView(\"df_Raw_Table\")\n",
    "df = spark.sql(\"select Year, round(MeanGHIraw, 4) as MeanGHI from df_Raw_Table\")\n",
    "df\n",
    "df.createOrReplaceTempView(\"df_Table\")\n"
   ]
  },
  {
   "cell_type": "markdown",
   "metadata": {},
   "source": [
    "## 05-DMM\n",
    "Data Transform - Process data source to produce Mean values for each year."
   ]
  },
  {
   "cell_type": "code",
   "execution_count": 25,
   "metadata": {},
   "outputs": [
    {
     "name": "stdout",
     "output_type": "stream",
     "text": [
      "+----+-------+\n",
      "|Year|MeanGHI|\n",
      "+----+-------+\n",
      "|2000|24.4393|\n",
      "|2006|21.0435|\n",
      "|2012|17.5086|\n",
      "|2021|16.7906|\n",
      "+----+-------+\n",
      "\n"
     ]
    },
    {
     "name": "stderr",
     "output_type": "stream",
     "text": [
      "                                                                                \r"
     ]
    },
    {
     "data": {
      "image/png": "[encoded data removed]",
      "text/plain": [
       "<Figure size 432x288 with 1 Axes>"
      ]
     },
     "metadata": {
      "needs_background": "light"
     },
     "output_type": "display_data"
    }
   ],
   "source": [
    "## Data Graphs - Actual MeanGHI\n",
    "## Plot Initial MeanGHI data\n",
    "df1=spark.sql(\"Select * from df_Table order by Year\")\n",
    "df1.show()\n",
    "pdf1=df1.toPandas()\n",
    "pdf1.plot(kind='line', x='Year',y='MeanGHI', linestyle=\"solid\", \n",
    "          marker=\"o\", color=\"blue\", title=\"Actual MeanGHI\", xlabel='Year', ylabel='MeanGHI')\n",
    "actual = pdf1"
   ]
  },
  {
   "cell_type": "code",
   "execution_count": 26,
   "metadata": {},
   "outputs": [
    {
     "name": "stdout",
     "output_type": "stream",
     "text": [
      "Future predictions are [[24.46248333]\n",
      " [20.99713333]\n",
      " [17.53178333]\n",
      " [12.33375833]]\n"
     ]
    },
    {
     "name": "stderr",
     "output_type": "stream",
     "text": [
      "\r",
      "[Stage 120:>                                                        (0 + 1) / 1]\r",
      "\r",
      "                                                                                \r"
     ]
    },
    {
     "name": "stdout",
     "output_type": "stream",
     "text": [
      "      Current     Future\n",
      "2000  24.4393       None\n",
      "2006  21.0435       None\n",
      "2012  17.5086  17.531783\n",
      "2021     None  12.333758\n"
     ]
    },
    {
     "data": {
      "image/png": "[encoded data removed]",
      "text/plain": [
       "<Figure size 432x288 with 1 Axes>"
      ]
     },
     "metadata": {
      "needs_background": "light"
     },
     "output_type": "display_data"
    }
   ],
   "source": [
    "## Data Graphs - UN - Original GHI prediction Values only\n",
    "## Plot Initial MeanGHI data minus the last reading after COVID\n",
    "df1b=spark.sql(\"Select * from df_Table order by Year limit 3\")\n",
    "#df1b.show()\n",
    "pdf1=df1b.toPandas()\n",
    "\n",
    "X = np.array(df1b.select(\"Year\").collect())\n",
    "Y = np.array(df1b.select(\"MeanGHI\").collect())\n",
    "\n",
    "reg = LinearRegression().fit(X, Y)\n",
    "reg.score(X, Y)\n",
    "reg.coef_\n",
    "reg.intercept_\n",
    "# Kept adding a year on and rerunning until the value reached/past Zero.\n",
    "predict_years = [ [2000], [2006], [2012], [2021] ]\n",
    "future = reg.predict(np.array(predict_years))\n",
    "\n",
    "#future[1] = future[0] \n",
    "print(\"Future predictions are %s\" % (future))\n",
    "\n",
    "columns = [\"Year\", \"MeanGHI\"]\n",
    "new_data = np.column_stack((predict_years, future))\n",
    "new_row = spark.createDataFrame(new_data.tolist(), schema=columns)\n",
    "plt_2nd=new_row.select(\"MeanGHI\")\n",
    "plt_2nd = plt_2nd.toPandas().unstack()\n",
    "\n",
    "#new_data = np.column_stack((predict_years, future))\n",
    "#new_row = spark.createDataFrame(new_data.tolist(), schema=columns)\n",
    "#plt_2nd=new_row.select(\"MeanGHI\")\n",
    "#plt_2nd = future\n",
    "#.toPandas().unstack()\n",
    "\n",
    "plt_1st = pdf1['MeanGHI']\n",
    "plt_1st[3] = 0\n",
    "plt_2nd = plt_2nd['MeanGHI']\n",
    "plt_2nd[0] = 0\n",
    "plt_2nd[1] = 0\n",
    "#print(\"plt_1st\")\n",
    "#print(plt_1st)\n",
    "#print(\"plt_2nd\")\n",
    "#print(plt_2nd)\n",
    "\n",
    "df5 = pd.DataFrame({'Current': plt_1st.values,\n",
    "                    'Future': plt_2nd.values},\n",
    "                    index=[ 2000, 2006, 2012, 2021 ])\n",
    "\n",
    "\n",
    "df5 = df5.replace(0, None)\n",
    "\n",
    "print(df5)\n",
    "\n",
    "df5.plot(kind='line', title=\"UN - Original GHI prediction Values only\", linestyle=\"solid\", marker=\"o\", xlabel='Year', ylabel='MeanGHI')\n",
    "origProj_plt_1st = plt_1st\n",
    "origProj_plt_2nd = plt_2nd"
   ]
  },
  {
   "cell_type": "code",
   "execution_count": 27,
   "metadata": {},
   "outputs": [
    {
     "name": "stderr",
     "output_type": "stream",
     "text": [
      "                                                                                \r"
     ]
    },
    {
     "name": "stdout",
     "output_type": "stream",
     "text": [
      "Future predictions are [[24.46248333]\n",
      " [20.99713333]\n",
      " [17.53178333]\n",
      " [12.33375833]\n",
      " [ 8.86840833]\n",
      " [ 5.40305833]\n",
      " [ 1.93770833]]\n"
     ]
    },
    {
     "name": "stderr",
     "output_type": "stream",
     "text": [
      "                                                                                \r"
     ]
    },
    {
     "name": "stdout",
     "output_type": "stream",
     "text": [
      "plt_1st\n",
      "0    24.4393\n",
      "1    21.0435\n",
      "2    17.5086\n",
      "3     0.0000\n",
      "Name: MeanGHI, dtype: float64\n",
      "plt_2nd\n",
      "0     0.000000\n",
      "1     0.000000\n",
      "2    17.531783\n",
      "3    12.333758\n",
      "4     8.868408\n",
      "5     5.403058\n",
      "6     1.937708\n",
      "dtype: float64\n",
      "Actual_data\n",
      "0     24.4393\n",
      "1     21.0435\n",
      "2     17.5086\n",
      "3     16.7906\n",
      "8      0.0000\n",
      "9      0.0000\n",
      "10     0.0000\n",
      "Name: MeanGHI, dtype: float64\n",
      "       Original   Actual\n",
      "2000       None  24.4393\n",
      "2006       None  21.0435\n",
      "2012  17.531783  17.5086\n",
      "2021  12.333758  16.7906\n",
      "2027   8.868408     None\n",
      "2033   5.403058     None\n",
      "2039   1.937708     None\n"
     ]
    },
    {
     "data": {
      "image/png": "[encoded data removed]",
      "text/plain": [
       "<Figure size 432x288 with 1 Axes>"
      ]
     },
     "metadata": {
      "needs_background": "light"
     },
     "output_type": "display_data"
    }
   ],
   "source": [
    "## Data Graphs - UN - Actual v Planned Original GHI Values only (Figure 9)\n",
    "## Plot Initial MeanGHI data minus the last reading after COVID\n",
    "df1b=spark.sql(\"Select * from df_Table order by Year limit 3\")\n",
    "#df1b.show()\n",
    "pdf1=df1b.toPandas()\n",
    "\n",
    "X = np.array(df1b.select(\"Year\").collect())\n",
    "Y = np.array(df1b.select(\"MeanGHI\").collect())\n",
    "\n",
    "reg = LinearRegression().fit(X, Y)\n",
    "reg.score(X, Y)\n",
    "reg.coef_\n",
    "reg.intercept_\n",
    "# Kept adding a year on and rerunning until the value reached/past Zero.\n",
    "predict_years = [ [2000], [2006], [2012], [2021], [2027], [2033], [2039] ]\n",
    "future = reg.predict(np.array(predict_years))\n",
    "\n",
    "#future[1] = future[0] \n",
    "print(\"Future predictions are %s\" % (future))\n",
    "\n",
    "columns = [\"Year\", \"MeanGHI\"]\n",
    "new_data = np.column_stack((predict_years, future))\n",
    "new_row = spark.createDataFrame(new_data.tolist(), schema=columns)\n",
    "plt_2nd=new_row.select(\"MeanGHI\")\n",
    "plt_2nd = plt_2nd.toPandas().unstack()\n",
    "\n",
    "#new_data = np.column_stack((predict_years, future))\n",
    "#new_row = spark.createDataFrame(new_data.tolist(), schema=columns)\n",
    "#plt_2nd=new_row.select(\"MeanGHI\")\n",
    "#plt_2nd = future\n",
    "#.toPandas().unstack()\n",
    "\n",
    "plt_1st = pdf1['MeanGHI']\n",
    "plt_1st[3] = 0\n",
    "plt_2nd = plt_2nd['MeanGHI']\n",
    "plt_2nd[0] = 0\n",
    "plt_2nd[1] = 0\n",
    "actual_data = actual['MeanGHI']\n",
    "#  Init lower part of dataframe first\n",
    "x = 8\n",
    "while x<11:\n",
    "    #print(\"Init: %s\" % (x))\n",
    "    actual_data.loc[x]=0\n",
    "    x += 1\n",
    "    \n",
    "print(\"plt_1st\")\n",
    "print(plt_1st)\n",
    "print(\"plt_2nd\")\n",
    "print(plt_2nd)\n",
    "print(\"Actual_data\")\n",
    "print(actual_data)\n",
    "\n",
    "df5 = pd.DataFrame({'Original': plt_2nd.values,\n",
    "                    'Actual': actual_data.values},\n",
    "                    index=[ 2000, 2006, 2012, 2021, 2027, 2033, 2039 ])\n",
    "\n",
    "\n",
    "df5 = df5.replace(0, None)\n",
    "\n",
    "print(df5)\n",
    "\n",
    "df5.plot(kind='line', title=\"UN - GHI Original Tracked & Variation Point\", linestyle=\"solid\", marker=\"o\", xlabel='Year', ylabel='MeanGHI')\n",
    "origProj_plt_1st = plt_1st\n",
    "origProj_plt_2nd = plt_2nd"
   ]
  },
  {
   "cell_type": "code",
   "execution_count": 28,
   "metadata": {},
   "outputs": [
    {
     "name": "stderr",
     "output_type": "stream",
     "text": [
      "                                                                                \r"
     ]
    },
    {
     "name": "stdout",
     "output_type": "stream",
     "text": [
      "Future predictions are [[23.54612336]\n",
      " [21.33035514]\n",
      " [19.11458692]\n",
      " [15.79093458]]\n"
     ]
    },
    {
     "name": "stderr",
     "output_type": "stream",
     "text": [
      "                                                                                \r"
     ]
    },
    {
     "name": "stdout",
     "output_type": "stream",
     "text": [
      "plt_1st\n",
      "0    24.4393\n",
      "1    21.0435\n",
      "2    17.5086\n",
      "3    16.7906\n",
      "Name: MeanGHI, dtype: float64\n",
      "plt_2nd\n",
      "0    23.546123\n",
      "1    21.330355\n",
      "2    19.114587\n",
      "3    15.790935\n",
      "dtype: float64\n",
      "Actual\n",
      "   Year  MeanGHI\n",
      "0  2000  24.4393\n",
      "1  2006  21.0435\n",
      "2  2012  17.5086\n",
      "3  2021  16.7906\n",
      "       Original   Actual\n",
      "2000  23.546123  24.4393\n",
      "2006  21.330355  21.0435\n",
      "2012  19.114587  17.5086\n",
      "2021  15.790935  16.7906\n"
     ]
    },
    {
     "data": {
      "image/png": "[encoded data removed]",
      "text/plain": [
       "<Figure size 432x288 with 1 Axes>"
      ]
     },
     "metadata": {
      "needs_background": "light"
     },
     "output_type": "display_data"
    }
   ],
   "source": [
    "## Data Graphs - UN - Actual v Planned Trend line GHI Prediction (Figure ?)\n",
    "## Plot Initial MeanGHI data minus the last reading after COVID\n",
    "df1b=spark.sql(\"Select * from df_Table order by Year limit 4\")\n",
    "#df1b.show()\n",
    "pdf1=df1b.toPandas()\n",
    "\n",
    "X = np.array(df1b.select(\"Year\").collect())\n",
    "Y = np.array(df1b.select(\"MeanGHI\").collect())\n",
    "\n",
    "reg = LinearRegression().fit(X, Y)\n",
    "reg.score(X, Y)\n",
    "reg.coef_\n",
    "reg.intercept_\n",
    "# Kept adding a year on and rerunning until the value reached/past Zero.\n",
    "predict_years = [ [2000], [2006], [2012], [2021] ]\n",
    "future = reg.predict(np.array(predict_years))\n",
    "\n",
    "#future[1] = future[0] \n",
    "print(\"Future predictions are %s\" % (future))\n",
    "\n",
    "columns = [\"Year\", \"MeanGHI\"]\n",
    "new_data = np.column_stack((predict_years, future))\n",
    "new_row = spark.createDataFrame(new_data.tolist(), schema=columns)\n",
    "plt_2nd=new_row.select(\"MeanGHI\")\n",
    "plt_2nd = plt_2nd.toPandas().unstack()\n",
    "\n",
    "#new_data = np.column_stack((predict_years, future))\n",
    "#new_row = spark.createDataFrame(new_data.tolist(), schema=columns)\n",
    "#plt_2nd=new_row.select(\"MeanGHI\")\n",
    "#plt_2nd = future\n",
    "#.toPandas().unstack()\n",
    "\n",
    "plt_1st = pdf1['MeanGHI']\n",
    "#plt_1st[3] = 0\n",
    "plt_2nd = plt_2nd['MeanGHI']\n",
    "#plt_2nd[0] = 0\n",
    "#plt_2nd[1] = 0\n",
    "actual_data = actual['MeanGHI']\n",
    "print(\"plt_1st\")\n",
    "print(plt_1st)\n",
    "print(\"plt_2nd\")\n",
    "print(plt_2nd)\n",
    "print(\"Actual\")\n",
    "print(actual)\n",
    "\n",
    "df5 = pd.DataFrame({'Original': plt_2nd.values,\n",
    "                    'Actual': actual_data.values},\n",
    "                    index=[ 2000, 2006, 2012, 2021 ])\n",
    "\n",
    "\n",
    "df5 = df5.replace(0, None)\n",
    "\n",
    "print(df5)\n",
    "\n",
    "df5.plot(kind='line', title=\"UN - GHI Actual/Original vs Original Prediction\", linestyle=\"solid\", marker=\"o\", xlabel='Year', ylabel='MeanGHI')\n",
    "origProj_plt_1st = plt_1st\n",
    "origProj_plt_2nd = plt_2nd"
   ]
  },
  {
   "cell_type": "code",
   "execution_count": 29,
   "metadata": {},
   "outputs": [
    {
     "name": "stderr",
     "output_type": "stream",
     "text": [
      "                                                                                \r"
     ]
    },
    {
     "name": "stdout",
     "output_type": "stream",
     "text": [
      "Future predictions are [[23.54612336]\n",
      " [21.33035514]\n",
      " [19.11458692]\n",
      " [15.79093458]\n",
      " [13.57516636]\n",
      " [11.35939813]\n",
      " [ 9.14362991]\n",
      " [ 7.66645109]\n",
      " [ 5.45068287]\n",
      " [ 3.23491464]\n",
      " [ 1.01914642]]\n"
     ]
    },
    {
     "name": "stderr",
     "output_type": "stream",
     "text": [
      "                                                                                \r"
     ]
    },
    {
     "name": "stdout",
     "output_type": "stream",
     "text": [
      "plt_1st\n",
      "0     24.4393\n",
      "1     21.0435\n",
      "2     17.5086\n",
      "3     16.7906\n",
      "7      0.0000\n",
      "8      0.0000\n",
      "9      0.0000\n",
      "10     0.0000\n",
      "Name: MeanGHI, dtype: float64\n",
      "plt_2nd\n",
      "0     23.546123\n",
      "1     21.330355\n",
      "2     19.114587\n",
      "3     15.790935\n",
      "4     13.575166\n",
      "5     11.359398\n",
      "6      9.143630\n",
      "7      7.666451\n",
      "8      5.450683\n",
      "9      3.234915\n",
      "10     1.019146\n",
      "dtype: float64\n",
      "Actual\n",
      "   Year  MeanGHI\n",
      "0  2000  24.4393\n",
      "1  2006  21.0435\n",
      "2  2012  17.5086\n",
      "3  2021  16.7906\n",
      "      New Predict   Actual\n",
      "2000    23.546123  24.4393\n",
      "2006    21.330355  21.0435\n",
      "2012    19.114587  17.5086\n",
      "2021    15.790935  16.7906\n",
      "2027    13.575166     None\n",
      "2033    11.359398     None\n",
      "2039     9.143630     None\n",
      "2043     7.666451     None\n",
      "2049     5.450683     None\n",
      "2055     3.234915     None\n",
      "2061     1.019146     None\n"
     ]
    },
    {
     "data": {
      "image/png": "[encoded data removed]",
      "text/plain": [
       "<Figure size 432x288 with 1 Axes>"
      ]
     },
     "metadata": {
      "needs_background": "light"
     },
     "output_type": "display_data"
    }
   ],
   "source": [
    "## Data Graphs - UN - Actual v Planned Trend line GHI Prediction (Figure ?)\n",
    "## Plot Initial MeanGHI data minus the last reading after COVID\n",
    "df1b=spark.sql(\"Select * from df_Table order by Year limit 4\")\n",
    "#df1b.show()\n",
    "pdf1=df1b.toPandas()\n",
    "\n",
    "X = np.array(df1b.select(\"Year\").collect())\n",
    "Y = np.array(df1b.select(\"MeanGHI\").collect())\n",
    "\n",
    "reg = LinearRegression().fit(X, Y)\n",
    "reg.score(X, Y)\n",
    "reg.coef_\n",
    "reg.intercept_\n",
    "# Kept adding a year on and rerunning until the value reached/past Zero.\n",
    "predict_years = [ [2000], [2006], [2012], [2021], [2027], [2033], [2039], [2043], [2049], [2055], [2061] ]\n",
    "future = reg.predict(np.array(predict_years))\n",
    "\n",
    "#future[1] = future[0] \n",
    "print(\"Future predictions are %s\" % (future))\n",
    "\n",
    "columns = [\"Year\", \"MeanGHI\"]\n",
    "new_data = np.column_stack((predict_years, future))\n",
    "new_row = spark.createDataFrame(new_data.tolist(), schema=columns)\n",
    "plt_2nd=new_row.select(\"MeanGHI\")\n",
    "plt_2nd = plt_2nd.toPandas().unstack()\n",
    "\n",
    "#new_data = np.column_stack((predict_years, future))\n",
    "#new_row = spark.createDataFrame(new_data.tolist(), schema=columns)\n",
    "#plt_2nd=new_row.select(\"MeanGHI\")\n",
    "#plt_2nd = future\n",
    "#.toPandas().unstack()\n",
    "\n",
    "plt_1st = pdf1['MeanGHI']\n",
    "#  Init lower part of dataframe first\n",
    "x = 7\n",
    "while x<11:\n",
    "    #print(\"Init: %s\" % (x))\n",
    "    plt_1st.loc[x]=0\n",
    "    x += 1\n",
    "\n",
    "#plt_1st[3] = 0\n",
    "plt_2nd = plt_2nd['MeanGHI']\n",
    "#plt_2nd[0] = 0\n",
    "#plt_2nd[1] = 0\n",
    "actual_data = actual['MeanGHI']\n",
    "x = 4\n",
    "while x<11:\n",
    "    #print(\"Init: %s\" % (x))\n",
    "    actual_data.loc[x]=0\n",
    "    x += 1\n",
    "\n",
    "print(\"plt_1st\")\n",
    "print(plt_1st)\n",
    "print(\"plt_2nd\")\n",
    "print(plt_2nd)\n",
    "print(\"Actual\")\n",
    "print(actual)\n",
    "\n",
    "df5 = pd.DataFrame({'New Predict': plt_2nd.values,\n",
    "                    'Actual': actual_data.values},\n",
    "                    index=[ 2000, 2006, 2012, 2021, 2027, 2033, 2039, 2043, 2049, 2055, 2061 ])\n",
    "\n",
    "\n",
    "df5 = df5.replace(0, None)\n",
    "\n",
    "print(df5)\n",
    "\n",
    "df5.plot(kind='line', title=\"UN - Actual v New Prediction\", linestyle=\"solid\", marker=\"o\", xlabel='Year', ylabel='MeanGHI')\n",
    "#origProj_plt_1st = plt_1st\n",
    "#origProj_plt_2nd = plt_2nd\n",
    "origFullProj_plt_2nd = plt_2nd"
   ]
  },
  {
   "cell_type": "code",
   "execution_count": 30,
   "metadata": {},
   "outputs": [
    {
     "name": "stderr",
     "output_type": "stream",
     "text": [
      "                                                                                \r"
     ]
    },
    {
     "name": "stdout",
     "output_type": "stream",
     "text": [
      "         Actual     Future\n",
      "2000    24.4393       None\n",
      "2006    21.0435       None\n",
      "2012    17.5086       None\n",
      "2021    16.7906       None\n",
      "2027  13.575166  13.575166\n",
      "2033       None  11.359398\n",
      "2039       None    9.14363\n",
      "2043       None   7.666451\n",
      "2049       None   5.450683\n",
      "2055       None   3.234915\n",
      "2061       None   1.019146\n"
     ]
    },
    {
     "data": {
      "image/png": "[encoded data removed]",
      "text/plain": [
       "<Figure size 432x288 with 1 Axes>"
      ]
     },
     "metadata": {
      "needs_background": "light"
     },
     "output_type": "display_data"
    }
   ],
   "source": [
    "## Data Graphs - Current Future prediction\n",
    "## Plot Initial MeanGHI data including the reading after COVID projecting out to zero\n",
    "\n",
    "df2 = spark.sql(\"Select Year, MeanGHI from df_Table order by Year limit 4\")\n",
    "\n",
    "X = np.array(df2.select(\"Year\").collect())\n",
    "Y = np.array(df2.select(\"MeanGHI\").collect())\n",
    "\n",
    "reg = LinearRegression().fit(X, Y)\n",
    "reg.score(X, Y)\n",
    "reg.coef_\n",
    "reg.intercept_\n",
    "# Kept adding a year on and rerunning until the value reached/past Zero.\n",
    "predict_years = [ [2027], [2033], [2039], [2043], [2049], [2055], [2061] ]\n",
    "future = reg.predict(np.array(predict_years))\n",
    "#print(\"Future predictions are %s\" % (future))\n",
    "\n",
    "plotYears = X\n",
    "plotMeanGHI = Y\n",
    "#print(\"xxxx\")\n",
    "#print(plotYears)\n",
    "#print(plotMeanGHI)\n",
    "#print(\"xxxx\")\n",
    "\n",
    "columns = [\"Year\", \"MeanGHI\"]\n",
    "plt_future = df2\n",
    "plt_1st=plt_future.select(\"MeanGHI\").toPandas().unstack()\n",
    "\n",
    "x = 4\n",
    "while x<11:\n",
    "    plt_1st.loc['MeanGHI', x]=0\n",
    "    x += 1\n",
    "\n",
    "new_data = np.column_stack((predict_years, future))\n",
    "new_row = spark.createDataFrame(new_data.tolist(), schema=columns)\n",
    "plt_2nd=new_row.select(\"MeanGHI\")\n",
    "plt_2nd = plt_2nd.toPandas().unstack()\n",
    "\n",
    "#  Init lower part of dataframe first\n",
    "x = 7\n",
    "while x<11:\n",
    "    #print(\"Init: %s\" % (x))\n",
    "    plt_2nd.loc['MeanGHI', x]=0\n",
    "    x += 1\n",
    "\n",
    "# Rearrange dataframe\n",
    "x = 10\n",
    "while x>-1:\n",
    "    #print(\"Rearrange: %s\" % (x))\n",
    "    if x<4:\n",
    "        plt_2nd.loc['MeanGHI',x]=0\n",
    "    else:\n",
    "        plt_2nd.loc['MeanGHI',x]=plt_2nd.loc['MeanGHI',(x-4)]\n",
    "        #print(\"Value: %s\" % (plt_2nd.loc['MeanGHI',(x-4)]))\n",
    "    x -= 1\n",
    "\n",
    "# Cross over point\n",
    "plt_1st.loc['MeanGHI',4]=plt_2nd.loc['MeanGHI',4]\n",
    "\n",
    "plt_future = plt_future.union(new_row)\n",
    "\n",
    "#print(\"....\")\n",
    "#new_row.printSchema()\n",
    "#new_row.show(truncate=False)\n",
    "#plt_future.printSchema()\n",
    "#plt_future.show(truncate=False)\n",
    "#print(\"....\")\n",
    "\n",
    "## Plot Initial MeanGHI data\n",
    "#plt_future.show()\n",
    "plt_df2=plt_future.toPandas()\n",
    "\n",
    "#  Convert to series\n",
    "plt_1st = plt_1st['MeanGHI']\n",
    "plt_2nd = plt_2nd['MeanGHI']\n",
    "#print(\"plt_1st\")\n",
    "#print(plt_1st)\n",
    "#print(\"plt_2nd\")\n",
    "#print(plt_2nd)\n",
    "\n",
    "df5 = pd.DataFrame({'Actual': plt_1st.values,\n",
    "                    'Future': plt_2nd.values},\n",
    "                    index=[ 2000, 2006, 2012, 2021, 2027, 2033, 2039, 2043, 2049, 2055, 2061 ])\n",
    "\n",
    "\n",
    "df5 = df5.replace(0, None)\n",
    "\n",
    "print(df5)\n",
    "\n",
    "df5.plot(kind='line', title=\"Current Actual/Predicted Timeline\", linestyle=\"solid\", marker=\"o\", xlabel='Year', ylabel='MeanGHI')\n",
    "curpredict_1st = plt_1st\n",
    "curpredict_2nd = plt_2nd"
   ]
  },
  {
   "cell_type": "code",
   "execution_count": 31,
   "metadata": {},
   "outputs": [
    {
     "name": "stdout",
     "output_type": "stream",
     "text": [
      "Future predictions are [[ 17.53178333]\n",
      " [ 12.33375833]\n",
      " [  8.86840833]\n",
      " [  5.40305833]\n",
      " [  1.93770833]\n",
      " [ -0.372525  ]\n",
      " [ -3.837875  ]\n",
      " [ -7.303225  ]\n",
      " [-10.768575  ]]\n"
     ]
    },
    {
     "name": "stderr",
     "output_type": "stream",
     "text": [
      "                                                                                \r"
     ]
    },
    {
     "name": "stdout",
     "output_type": "stream",
     "text": [
      "Init: 7\n",
      "Init: 8\n",
      "Init: 9\n",
      "Init: 10\n",
      "Rearrange: 10\n",
      "Rearrange: 9\n",
      "Rearrange: 8\n",
      "Rearrange: 7\n",
      "Rearrange: 6\n",
      "Rearrange: 5\n",
      "Rearrange: 4\n",
      "Rearrange: 3\n",
      "Rearrange: 2\n",
      "Rearrange: 1\n",
      "Rearrange: 0\n",
      "curpredict_1st\n",
      "0     24.439300\n",
      "1     21.043500\n",
      "2     17.508600\n",
      "3     16.790600\n",
      "4     13.575166\n",
      "5      0.000000\n",
      "6      0.000000\n",
      "7      0.000000\n",
      "8      0.000000\n",
      "9      0.000000\n",
      "10     0.000000\n",
      "dtype: float64\n",
      "curpredict_2nd\n",
      "0      0.000000\n",
      "1      0.000000\n",
      "2      0.000000\n",
      "3      0.000000\n",
      "4     13.575166\n",
      "5     11.359398\n",
      "6      9.143630\n",
      "7      7.666451\n",
      "8      5.450683\n",
      "9      3.234915\n",
      "10     1.019146\n",
      "dtype: float64\n",
      "plt_1st\n",
      "MeanGHI  0      0.000000\n",
      "         1      0.000000\n",
      "         2     17.531783\n",
      "         3     12.333758\n",
      "         4      8.868408\n",
      "         5      5.403058\n",
      "         6      1.937708\n",
      "         7      0.000000\n",
      "         8      0.000000\n",
      "         9      0.000000\n",
      "         10     0.000000\n",
      "dtype: float64\n"
     ]
    },
    {
     "data": {
      "text/plain": [
       "<AxesSubplot:title={'center':'Original/Actual/NewPrediction Timelines'}, xlabel='Year', ylabel='MeanGHI'>"
      ]
     },
     "execution_count": 31,
     "metadata": {},
     "output_type": "execute_result"
    },
    {
     "data": {
      "image/png": "[encoded data removed]",
      "text/plain": [
       "<Figure size 432x288 with 1 Axes>"
      ]
     },
     "metadata": {
      "needs_background": "light"
     },
     "output_type": "display_data"
    }
   ],
   "source": [
    "## Data Graphs - Original/Actual/NewPredict\n",
    "# Example graph\n",
    "\n",
    "df2 = spark.sql(\"Select Year, MeanGHI from df_Table order by Year limit 3\")\n",
    "\n",
    "X = np.array(df2.select(\"Year\").collect())\n",
    "Y = np.array(df2.select(\"MeanGHI\").collect())\n",
    "\n",
    "reg = LinearRegression().fit(X, Y)\n",
    "reg.score(X, Y)\n",
    "reg.coef_\n",
    "reg.intercept_\n",
    "# Kept adding a year on and rerunning until the value reached/past Zero.\n",
    "predict_years = [ [2012], [2021], [2027], [2033], [2039], [2043], [2049], [2055], [2061] ]\n",
    "future = reg.predict(np.array(predict_years))\n",
    "print(\"Future predictions are %s\" % (future))\n",
    "\n",
    "plotYears = X\n",
    "plotMeanGHI = Y\n",
    "#print(\"xxxx\")\n",
    "#print(plotYears)\n",
    "##print(plotMeanGHI)\n",
    "##print(\"xxxx\")\n",
    "\n",
    "columns = [\"Year\", \"MeanGHI\"]\n",
    "#plt_future = future\n",
    "#plt_1st=plt_future.select(\"MeanGHI\").toPandas().unstack()\n",
    "\n",
    "#x = 4\n",
    "#while x<11:\n",
    "#    plt_1st.loc['MeanGHI', x]=0\n",
    "#    x += 1\n",
    "\n",
    "new_data = np.column_stack((predict_years, future))\n",
    "new_row = spark.createDataFrame(new_data.tolist(), schema=columns)\n",
    "plt_1st=new_row.select(\"MeanGHI\")\n",
    "plt_1st = plt_1st.toPandas().unstack()\n",
    "\n",
    "#print(\"plt_1st\")\n",
    "#print(plt_1st)\n",
    "\n",
    "##  Init lower part of dataframe first\n",
    "x = 7\n",
    "while x<11:\n",
    "    print(\"Init: %s\" % (x))\n",
    "    plt_1st.loc['MeanGHI', x]=0\n",
    "    x += 1\n",
    "\n",
    "\n",
    "## Rearrange dataframe\n",
    "x = 10\n",
    "while x>-1:\n",
    "    print(\"Rearrange: %s\" % (x))\n",
    "    if x<2:\n",
    "        plt_1st.loc['MeanGHI',x]=0\n",
    "    else:\n",
    "        if plt_1st.loc['MeanGHI',(x-2)]>0:\n",
    "            plt_1st.loc['MeanGHI',x]=plt_1st.loc['MeanGHI',(x-2)]\n",
    "        else:\n",
    "            plt_1st.loc['MeanGHI',x]=0\n",
    "        #print(\"Value: %s\" % (plt_2nd.loc['MeanGHI',(x-4)]))\n",
    "    x -= 1\n",
    "\n",
    "## Cross over point\n",
    "#plt_1st.loc['MeanGHI',4]=plt_2nd.loc['MeanGHI',4]\n",
    "\n",
    "#plt_future = plt_future.union(new_row)\n",
    "\n",
    "##print(\"....\")\n",
    "##new_row.printSchema()\n",
    "##new_row.show(truncate=False)\n",
    "##plt_future.printSchema()\n",
    "##plt_future.show(truncate=False)\n",
    "##print(\"....\")\n",
    "\n",
    "## Plot Initial MeanGHI data\n",
    "##plt_future.show()\n",
    "#plt_df2=plt_future.toPandas()\n",
    "\n",
    "##  Convert to series\n",
    "#plt_1st = plt_1st['MeanGHI']\n",
    "#plt_2nd = plt_2nd['MeanGHI']\n",
    "#print(\"plt_1st\")\n",
    "#print(plt_1st)\n",
    "##print(\"plt_2nd\")\n",
    "##print(plt_2nd)\n",
    "print(\"curpredict_1st\")\n",
    "print(curpredict_1st)\n",
    "print(\"curpredict_2nd\")\n",
    "print(curpredict_2nd)\n",
    "print(\"plt_1st\")\n",
    "print(plt_1st)\n",
    "\n",
    "\n",
    "df5 = pd.DataFrame({'Actual':   curpredict_1st.values,\n",
    "                    'Future':   curpredict_2nd.values,\n",
    "                    #'Original': origpredict_2nd.values},\n",
    "                    'Original': plt_1st.values},                   \n",
    "                    index=[ 2000, 2006, 2012, 2021, 2027, 2033, 2039, 2043, 2049, 2055, 2061 ])\n",
    "\n",
    "\n",
    "df5 = df5.replace(0, None)\n",
    "\n",
    "#print(df5)\n",
    "\n",
    "df5.plot(kind='line', title=\"Original/Actual/NewPrediction Timelines\", linestyle=\"solid\", marker=\"o\", xlabel='Year', ylabel='MeanGHI')"
   ]
  },
  {
   "cell_type": "code",
   "execution_count": 32,
   "metadata": {},
   "outputs": [
    {
     "name": "stdout",
     "output_type": "stream",
     "text": [
      "Run Completed.\n"
     ]
    }
   ],
   "source": [
    "print(\"Run Completed.\")"
   ]
  }
 ],
 "metadata": {
  "anaconda-cloud": {},
  "kernelspec": {
   "display_name": "Python 3 (ipykernel)",
   "language": "python",
   "name": "python3"
  },
  "language_info": {
   "codemirror_mode": {
    "name": "ipython",
    "version": 3
   },
   "file_extension": ".py",
   "mimetype": "text/x-python",
   "name": "python",
   "nbconvert_exporter": "python",
   "pygments_lexer": "ipython3",
   "version": "3.10.4"
  }
 },
 "nbformat": 4,
 "nbformat_minor": 4
}
